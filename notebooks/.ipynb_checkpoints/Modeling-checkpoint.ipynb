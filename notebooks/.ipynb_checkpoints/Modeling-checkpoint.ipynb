{
 "cells": [
  {
   "cell_type": "markdown",
   "id": "474c497e",
   "metadata": {},
   "source": [
    "# Modeling"
   ]
  },
  {
   "cell_type": "markdown",
   "id": "c512c3c9",
   "metadata": {},
   "source": [
    "## Load libraries, functions, and classes"
   ]
  },
  {
   "cell_type": "code",
   "execution_count": 258,
   "id": "e6dd563c",
   "metadata": {},
   "outputs": [
    {
     "name": "stdout",
     "output_type": "stream",
     "text": [
      "Total number or reviews: 568454\n",
      "Total number of na (nulls): 43\n",
      "\n",
      "Dropping 43 out of 568454 reviews\n",
      "\n",
      "-------------------------------------------------------------------------\n",
      "\n",
      "Original columns:  Index(['Id', 'ProductId', 'UserId', 'ProfileName', 'HelpfulnessNumerator',\n",
      "       'HelpfulnessDenominator', 'Score', 'Time', 'Summary', 'Text',\n",
      "       'Updated_Score'],\n",
      "      dtype='object')\n",
      "\n",
      "Leaving 'Text','Summary' and 'Score' columns:\n",
      "\n",
      "Selected columns:  Index(['Text', 'Summary', 'Score', 'Updated_Score'], dtype='object')\n",
      "\n",
      "-------------------------------------------------------------------------\n",
      "\n"
     ]
    }
   ],
   "source": [
    "# Importing sklearn, nltk, numpy, pandas and other libararies\n",
    "\n",
    "%run ../src/import_libraries.py\n",
    "%matplotlib inline\n",
    "\n",
    "# initial preprocessing:\n",
    "\n",
    "%run ../src/initial_preprocessing.py\n"
   ]
  },
  {
   "cell_type": "markdown",
   "id": "93feabd5",
   "metadata": {},
   "source": [
    "***\n",
    "## Train/Test Split with Optional Undersampling"
   ]
  },
  {
   "cell_type": "code",
   "execution_count": 235,
   "id": "0984f3b4",
   "metadata": {},
   "outputs": [],
   "source": [
    "#n=50000\n",
    "n=len(df)\n",
    "\n",
    "df_sample=df_raw.sample(n,random_state=12)\n",
    "\n",
    "X=df_sample[['Text']].copy()\n",
    "y=df_sample['Score']\n",
    "\n",
    "X_train, X_test, y_train, y_test= train_test_split(X,y, test_size=0.10, random_state=1)"
   ]
  },
  {
   "cell_type": "markdown",
   "id": "40f2187f",
   "metadata": {},
   "source": [
    "## Building First Model with 5 classes"
   ]
  },
  {
   "cell_type": "code",
   "execution_count": 236,
   "id": "8be820c8",
   "metadata": {},
   "outputs": [],
   "source": [
    "text_vectorizer=TfidfVectorizer()\n",
    "est=MultinomialNB(alpha=1)\n",
    "\n",
    "X_train_preproc=text_vectorizer.fit_transform(X_train['Text'])\n",
    "X_test_preproc=text_vectorizer.transform(X_test['Text'])\n",
    "\n",
    "est.fit(X_train_preproc, y_train)\n",
    "y_pred=est.predict(X_test_preproc)"
   ]
  },
  {
   "cell_type": "code",
   "execution_count": 237,
   "id": "f0039766",
   "metadata": {},
   "outputs": [
    {
     "name": "stdout",
     "output_type": "stream",
     "text": [
      "              precision    recall  f1-score   support\n",
      "\n",
      "           1       0.83      0.11      0.19      4786\n",
      "           2       0.67      0.00      0.00      2692\n",
      "           3       0.62      0.00      0.00      3877\n",
      "           4       0.67      0.01      0.02      7541\n",
      "           5       0.65      1.00      0.79     33682\n",
      "\n",
      "    accuracy                           0.65     52578\n",
      "   macro avg       0.69      0.22      0.20     52578\n",
      "weighted avg       0.67      0.65      0.52     52578\n",
      "\n"
     ]
    },
    {
     "data": {
      "text/plain": [
       "0.6512229449579672"
      ]
     },
     "execution_count": 237,
     "metadata": {},
     "output_type": "execute_result"
    }
   ],
   "source": [
    "print(classification_report(y_test, y_pred))\n",
    "accuracy_score(y_test,y_pred)"
   ]
  },
  {
   "cell_type": "markdown",
   "id": "69a0809a",
   "metadata": {},
   "source": [
    "#### TERRIBLE!!!!\n",
    "* Model declared almost all of the reviews to be 5 star review, and could determine anything else"
   ]
  },
  {
   "cell_type": "markdown",
   "id": "37edeb8d",
   "metadata": {},
   "source": [
    "## Building Second Model with 5 classes:"
   ]
  },
  {
   "cell_type": "code",
   "execution_count": 178,
   "id": "36e94268",
   "metadata": {},
   "outputs": [],
   "source": [
    "# different CountVectorizer and ComplementNB estimator:\n",
    "\n",
    "text_vectorizer=CountVectorizer()\n",
    "est=ComplementNB(alpha=1)\n",
    "\n",
    "X_train_preproc=text_vectorizer.fit_transform(X_train['Text'])\n",
    "X_test_preproc=text_vectorizer.transform(X_test['Text'])\n",
    "\n",
    "est.fit(X_train_preproc, y_train)\n",
    "y_pred=est.predict(X_test_preproc)"
   ]
  },
  {
   "cell_type": "code",
   "execution_count": 179,
   "id": "8ecf55f0",
   "metadata": {},
   "outputs": [
    {
     "name": "stdout",
     "output_type": "stream",
     "text": [
      "              precision    recall  f1-score   support\n",
      "\n",
      "           1       0.45      0.80      0.58      5104\n",
      "           2       0.48      0.15      0.23      2973\n",
      "           3       0.43      0.28      0.34      4190\n",
      "           4       0.41      0.36      0.38      8026\n",
      "           5       0.85      0.86      0.86     36549\n",
      "\n",
      "    accuracy                           0.71     56842\n",
      "   macro avg       0.52      0.49      0.48     56842\n",
      "weighted avg       0.70      0.71      0.69     56842\n",
      "\n"
     ]
    },
    {
     "data": {
      "text/plain": [
       "0.7055698251293058"
      ]
     },
     "execution_count": 179,
     "metadata": {},
     "output_type": "execute_result"
    }
   ],
   "source": [
    "print(classification_report(y_test, y_pred))\n",
    "accuracy_score(y_test,y_pred)"
   ]
  },
  {
   "cell_type": "markdown",
   "id": "d6675492",
   "metadata": {},
   "source": [
    "### Slightly better:\n"
   ]
  },
  {
   "cell_type": "markdown",
   "id": "423b7213",
   "metadata": {},
   "source": [
    "* Now both 1 and 5 star reviews have better recall:\n",
    "* Still Precision is only 45% for one star reviews.\n",
    "* 2,3,4 stars cannot be identified\n",
    "* let's see if we can bin our target"
   ]
  },
  {
   "cell_type": "markdown",
   "id": "e11ea2df",
   "metadata": {},
   "source": [
    "## Building 5 star reviews with Basic Preprocessing"
   ]
  },
  {
   "cell_type": "code",
   "execution_count": 180,
   "id": "2f20e28a",
   "metadata": {},
   "outputs": [],
   "source": [
    "def basic_preprocess (review):\n",
    "    review=review.lower()\n",
    "    review=review.translate(review.maketrans('', '', string.digits+string.punctuation))\n",
    "    pass\n",
    "    return review\n",
    "\n",
    "text_vectorizer=CountVectorizer(preprocessor=basic_preprocess)\n",
    "est=ComplementNB(alpha=1)\n",
    "\n",
    "X_train_preproc=text_vectorizer.fit_transform(X_train['Text'])\n",
    "X_test_preproc=text_vectorizer.transform(X_test['Text'])\n",
    "\n",
    "est.fit(X_train_preproc, y_train)\n",
    "y_pred=est.predict(X_test_preproc)"
   ]
  },
  {
   "cell_type": "code",
   "execution_count": 181,
   "id": "5faf11ca",
   "metadata": {},
   "outputs": [
    {
     "name": "stdout",
     "output_type": "stream",
     "text": [
      "              precision    recall  f1-score   support\n",
      "\n",
      "           1       0.48      0.80      0.60      5104\n",
      "           2       0.55      0.18      0.27      2973\n",
      "           3       0.47      0.31      0.37      4190\n",
      "           4       0.44      0.38      0.41      8026\n",
      "           5       0.85      0.88      0.86     36549\n",
      "\n",
      "    accuracy                           0.72     56842\n",
      "   macro avg       0.56      0.51      0.50     56842\n",
      "weighted avg       0.72      0.72      0.71     56842\n",
      "\n"
     ]
    },
    {
     "data": {
      "text/plain": [
       "0.7217198550367686"
      ]
     },
     "execution_count": 181,
     "metadata": {},
     "output_type": "execute_result"
    }
   ],
   "source": [
    "print(classification_report(y_test, y_pred))\n",
    "accuracy_score(y_test,y_pred)"
   ]
  },
  {
   "cell_type": "markdown",
   "id": "75517fad",
   "metadata": {},
   "source": [
    "### * Another small Improvement"
   ]
  },
  {
   "cell_type": "markdown",
   "id": "8d33d4d1",
   "metadata": {},
   "source": [
    "## Model with binning target in 3 sentiment categories:"
   ]
  },
  {
   "cell_type": "code",
   "execution_count": 202,
   "id": "f1a9ac52",
   "metadata": {},
   "outputs": [],
   "source": [
    "#n=50000\n",
    "n=len(df)\n",
    "\n",
    "df_sample=df_raw.sample(n,random_state=12)\n",
    "df_sample['Updated_3Score']=np.where(df_sample['Score'].isin([1,2]), 1, df_sample['Score'] )\n",
    "df_sample['Updated_3Score']=np.where(df_sample['Updated_3Score'].isin([4,5]), 5, df_sample['Updated_3Score'] )\n",
    "\n",
    "## Increasing \"weight\" of Summary words:\n",
    "df_sample['Text']= df_sample['Summary']+' '+df_sample['Text']\n",
    "\n",
    "X=df_sample[['Text','Summary']].copy()\n",
    "y=df_sample['Updated_3Score']\n",
    "\n",
    "X_train, X_test, y_train, y_test= train_test_split(X,y, test_size=0.10, random_state=1)"
   ]
  },
  {
   "cell_type": "code",
   "execution_count": 203,
   "id": "50af35f2",
   "metadata": {},
   "outputs": [],
   "source": [
    "text_vectorizer=CountVectorizer(preprocessor=basic_preprocess)\n",
    "est=ComplementNB(alpha=1)\n",
    "\n",
    "X_train_preproc=text_vectorizer.fit_transform(X_train['Text'])\n",
    "X_test_preproc=text_vectorizer.transform(X_test['Text'])\n",
    "\n",
    "est.fit(X_train_preproc, y_train)\n",
    "y_pred=est.predict(X_test_preproc)"
   ]
  },
  {
   "cell_type": "code",
   "execution_count": 204,
   "id": "8eae22b4",
   "metadata": {},
   "outputs": [
    {
     "name": "stdout",
     "output_type": "stream",
     "text": [
      "              precision    recall  f1-score   support\n",
      "\n",
      "           1       0.61      0.85      0.71      8077\n",
      "           3       0.52      0.31      0.39      4190\n",
      "           5       0.95      0.92      0.93     44575\n",
      "\n",
      "    accuracy                           0.86     56842\n",
      "   macro avg       0.69      0.69      0.68     56842\n",
      "weighted avg       0.87      0.86      0.86     56842\n",
      "\n"
     ]
    },
    {
     "data": {
      "text/plain": [
       "0.8627775236620808"
      ]
     },
     "execution_count": 204,
     "metadata": {},
     "output_type": "execute_result"
    }
   ],
   "source": [
    "print(classification_report(y_test, y_pred))\n",
    "accuracy_score(y_test,y_pred)"
   ]
  },
  {
   "cell_type": "markdown",
   "id": "b364213c",
   "metadata": {},
   "source": [
    "### Better!\n",
    "\n",
    "* Still no luck with mixed reviews , and only 61% precision for Negative reviews"
   ]
  },
  {
   "cell_type": "markdown",
   "id": "1aa597e2",
   "metadata": {},
   "source": [
    "## Model with maximum accuracy, recall and precision \n",
    "\n",
    "* Stars binned into Positive and Negative sentiments\n",
    "* preproc_pipeline is configured and used (see Preprocessing_Pipe.ipynb)\n",
    "* The model is chosen after trying different features, estimators and hydroparameters"
   ]
  },
  {
   "cell_type": "code",
   "execution_count": 250,
   "id": "2609bb5b",
   "metadata": {},
   "outputs": [],
   "source": [
    "n=50000\n",
    "#n=len(df)\n",
    "\n",
    "df_sample=df.sample(n,random_state=12)\n",
    "\n",
    "## Increasing \"weight\" of Summary words:\n",
    "df_sample['Text']= df_sample['Summary']+' '+df_sample['Text']\n",
    "\n",
    "X=df_sample[['Text','Summary']].copy()\n",
    "y=df_sample['Updated_Score']\n",
    "\n",
    "X_train, X_test, y_train, y_test= train_test_split(X,y, test_size=0.10, random_state=1)"
   ]
  },
  {
   "cell_type": "markdown",
   "id": "88871b10",
   "metadata": {},
   "source": [
    "#### Pre-processing with custom pipeline:"
   ]
  },
  {
   "cell_type": "code",
   "execution_count": 251,
   "id": "53dda245",
   "metadata": {},
   "outputs": [
    {
     "data": {
      "text/plain": [
       "<Figure size 432x288 with 0 Axes>"
      ]
     },
     "metadata": {},
     "output_type": "display_data"
    }
   ],
   "source": [
    "## Building a preproc pipiline (see Preprocessing_Pipe.ipynb or ../src/preproc_pipe.py):\n",
    "\n",
    "%run ../src/preproc_pipe.py"
   ]
  },
  {
   "cell_type": "code",
   "execution_count": 252,
   "id": "46e8bd04",
   "metadata": {},
   "outputs": [
    {
     "name": "stdout",
     "output_type": "stream",
     "text": [
      "0:02:21.447495\n"
     ]
    }
   ],
   "source": [
    "started = datetime.now()\n",
    "\n",
    "prep_train_X=prep_pipe.fit_transform(X_train)\n",
    "prep_test_X=prep_pipe.transform(X_test)\n",
    "\n",
    "print(datetime.now()-started)"
   ]
  },
  {
   "cell_type": "markdown",
   "id": "10f4f3ba",
   "metadata": {},
   "source": [
    "#### Creating a VotingEnsemble of XGBoost and Complement"
   ]
  },
  {
   "cell_type": "code",
   "execution_count": 253,
   "id": "0daf9919",
   "metadata": {},
   "outputs": [
    {
     "name": "stdout",
     "output_type": "stream",
     "text": [
      "0:00:45.680327\n"
     ]
    }
   ],
   "source": [
    "compl = ComplementNB(alpha=3)\n",
    "random = RandomForestClassifier()\n",
    "xgb = XGBClassifier(use_label_encoder=False, eval_metric='logloss', gamma= 0.15,  n_estimators=350, n_jobs=-1)\n",
    "\n",
    "vote= VotingClassifier(estimators = [('compl', compl),\n",
    "                                    ('xgb', xgb)], voting='soft', n_jobs=-1)\n",
    "started = datetime.now()\n",
    "\n",
    "vote.fit(prep_train_X, y_train, )\n",
    "y_pred=vote.predict(prep_test_X)\n",
    "\n",
    "print(datetime.now()-started)"
   ]
  },
  {
   "cell_type": "code",
   "execution_count": 254,
   "id": "ac04f505",
   "metadata": {},
   "outputs": [
    {
     "name": "stdout",
     "output_type": "stream",
     "text": [
      "              precision    recall  f1-score   support\n",
      "\n",
      "         neg       0.81      0.91      0.86       777\n",
      "         pos       0.98      0.96      0.97      4223\n",
      "\n",
      "    accuracy                           0.95      5000\n",
      "   macro avg       0.90      0.94      0.91      5000\n",
      "weighted avg       0.96      0.95      0.95      5000\n",
      "\n"
     ]
    },
    {
     "data": {
      "text/plain": [
       "0.9526"
      ]
     },
     "execution_count": 254,
     "metadata": {},
     "output_type": "execute_result"
    }
   ],
   "source": [
    "print(classification_report(y_test, y_pred))\n",
    "accuracy_score(y_test,y_pred)"
   ]
  },
  {
   "cell_type": "code",
   "execution_count": 256,
   "id": "786ea1c5",
   "metadata": {},
   "outputs": [
    {
     "data": {
      "image/png": "[encoded data removed]",
      "text/plain": [
       "<Figure size 432x432 with 2 Axes>"
      ]
     },
     "metadata": {
      "needs_background": "light"
     },
     "output_type": "display_data"
    }
   ],
   "source": [
    "fig, ax = plt.subplots ( figsize=(6,6))\n",
    "ConfusionMatrixDisplay.from_predictions(y_test, y_pred, normalize='true', cmap='mako', ax=ax,\n",
    "                                       display_labels=['Neg.','Pos.']);\n",
    "plt.yticks(rotation=90, size=12)\n",
    "fig.set_tight_layout({'pad':0})\n",
    "#fig.savefig('../images/conf_matrix.jpg');"
   ]
  },
  {
   "cell_type": "markdown",
   "id": "fa760627",
   "metadata": {},
   "source": [
    "# Saving Models and Preprocessed Data:\n"
   ]
  },
  {
   "cell_type": "code",
   "execution_count": 257,
   "id": "262a5f44",
   "metadata": {},
   "outputs": [],
   "source": [
    "# Uncomment if you want to save model/data:\n",
    "\n",
    "### Saving sparse matrices\n",
    "\n",
    "#from scipy import sparse\n",
    "#sparse.save_npz(\"../data/preprocessed/prep_train_X.npz\", prep_train_X)\n",
    "#sparse.save_npz(\"../data/preprocessed/prep_test_X.npz\", prep_test_X)\n",
    "\n",
    "### Saving dataframes:\n",
    "\n",
    "# df_sample.to_pickle(\"../data/preprocessed/df.pkl\") \n",
    "\n",
    "\n",
    "### Saving Models:\n",
    "\n",
    "#from joblib import dump, load\n",
    "#dump(vote, '../models/Best_Model.joblib') \n",
    "#dump(prep_pipe, '../models/Best_Preprocessor.joblib')\n"
   ]
  },
  {
   "cell_type": "markdown",
   "id": "0a394ba8",
   "metadata": {},
   "source": [
    "# Summary"
   ]
  },
  {
   "cell_type": "markdown",
   "id": "8b4077c5",
   "metadata": {},
   "source": [
    "The following improved the model:\n",
    "* building new features in pre-processing\n",
    "* Finding the better estimators\n",
    "* Tuning hydro-parameters\n",
    "* Proper binning of Target  \n",
    "  \n"
   ]
  },
  {
   "cell_type": "code",
   "execution_count": null,
   "id": "4059cb59",
   "metadata": {},
   "outputs": [],
   "source": []
  }
 ],
 "metadata": {
  "kernelspec": {
   "display_name": "Python 3 (ipykernel)",
   "language": "python",
   "name": "python3"
  },
  "language_info": {
   "codemirror_mode": {
    "name": "ipython",
    "version": 3
   },
   "file_extension": ".py",
   "mimetype": "text/x-python",
   "name": "python",
   "nbconvert_exporter": "python",
   "pygments_lexer": "ipython3",
   "version": "3.9.7"
  }
 },
 "nbformat": 4,
 "nbformat_minor": 5
}
