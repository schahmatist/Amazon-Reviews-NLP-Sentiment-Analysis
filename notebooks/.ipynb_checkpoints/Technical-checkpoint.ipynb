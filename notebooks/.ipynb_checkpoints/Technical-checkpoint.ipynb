{
 "cells": [
  {
   "cell_type": "markdown",
   "id": "cbc481e1",
   "metadata": {},
   "source": [
    "## Initial Setup"
   ]
  },
  {
   "cell_type": "code",
   "execution_count": 1,
   "id": "0317bf86",
   "metadata": {},
   "outputs": [],
   "source": [
    "# Importing sklearn, nltk, numpy, pandas and other libararies\n",
    "\n",
    "%run ../src/import_libraries.py\n",
    "%matplotlib inline"
   ]
  },
  {
   "cell_type": "code",
   "execution_count": 72,
   "id": "b246a430",
   "metadata": {},
   "outputs": [],
   "source": [
    "# loading Data\n",
    "df=pd.read_csv('../data/raw/Reviews.csv')\n"
   ]
  },
  {
   "cell_type": "code",
   "execution_count": 73,
   "id": "fc2754ed",
   "metadata": {},
   "outputs": [
    {
     "data": {
      "text/html": [
       "<div>\n",
       "<style scoped>\n",
       "    .dataframe tbody tr th:only-of-type {\n",
       "        vertical-align: middle;\n",
       "    }\n",
       "\n",
       "    .dataframe tbody tr th {\n",
       "        vertical-align: top;\n",
       "    }\n",
       "\n",
       "    .dataframe thead th {\n",
       "        text-align: right;\n",
       "    }\n",
       "</style>\n",
       "<table border=\"1\" class=\"dataframe\">\n",
       "  <thead>\n",
       "    <tr style=\"text-align: right;\">\n",
       "      <th></th>\n",
       "      <th>0</th>\n",
       "    </tr>\n",
       "  </thead>\n",
       "  <tbody>\n",
       "    <tr>\n",
       "      <th>Id</th>\n",
       "      <td>1</td>\n",
       "    </tr>\n",
       "    <tr>\n",
       "      <th>ProductId</th>\n",
       "      <td>B001E4KFG0</td>\n",
       "    </tr>\n",
       "    <tr>\n",
       "      <th>UserId</th>\n",
       "      <td>A3SGXH7AUHU8GW</td>\n",
       "    </tr>\n",
       "    <tr>\n",
       "      <th>ProfileName</th>\n",
       "      <td>delmartian</td>\n",
       "    </tr>\n",
       "    <tr>\n",
       "      <th>HelpfulnessNumerator</th>\n",
       "      <td>1</td>\n",
       "    </tr>\n",
       "    <tr>\n",
       "      <th>HelpfulnessDenominator</th>\n",
       "      <td>1</td>\n",
       "    </tr>\n",
       "    <tr>\n",
       "      <th>Score</th>\n",
       "      <td>5</td>\n",
       "    </tr>\n",
       "    <tr>\n",
       "      <th>Time</th>\n",
       "      <td>1303862400</td>\n",
       "    </tr>\n",
       "    <tr>\n",
       "      <th>Summary</th>\n",
       "      <td>Good Quality Dog Food</td>\n",
       "    </tr>\n",
       "    <tr>\n",
       "      <th>Text</th>\n",
       "      <td>I have bought several of the Vitality canned dog food products and have found them all to be of good quality. The product looks more like a stew than a processed meat and it smells better. My Labrador is finicky and she appreciates this product better than  most.</td>\n",
       "    </tr>\n",
       "  </tbody>\n",
       "</table>\n",
       "</div>"
      ],
      "text/plain": [
       "                                                                                                                                                                                                                                                                                              0\n",
       "Id                                                                                                                                                                                                                                                                                            1\n",
       "ProductId                                                                                                                                                                                                                                                                            B001E4KFG0\n",
       "UserId                                                                                                                                                                                                                                                                           A3SGXH7AUHU8GW\n",
       "ProfileName                                                                                                                                                                                                                                                                          delmartian\n",
       "HelpfulnessNumerator                                                                                                                                                                                                                                                                          1\n",
       "HelpfulnessDenominator                                                                                                                                                                                                                                                                        1\n",
       "Score                                                                                                                                                                                                                                                                                         5\n",
       "Time                                                                                                                                                                                                                                                                                 1303862400\n",
       "Summary                                                                                                                                                                                                                                                                   Good Quality Dog Food\n",
       "Text                    I have bought several of the Vitality canned dog food products and have found them all to be of good quality. The product looks more like a stew than a processed meat and it smells better. My Labrador is finicky and she appreciates this product better than  most."
      ]
     },
     "execution_count": 73,
     "metadata": {},
     "output_type": "execute_result"
    }
   ],
   "source": [
    "# Checking sample row\n",
    "df.head(1).T"
   ]
  },
  {
   "cell_type": "markdown",
   "id": "507e4a48",
   "metadata": {},
   "source": [
    "## Pre-processing"
   ]
  },
  {
   "cell_type": "code",
   "execution_count": 74,
   "id": "6eed72cb",
   "metadata": {},
   "outputs": [],
   "source": [
    "# Leaving only predictors and target:\n",
    "\n",
    "df=df[['Text','Summary','Score']]"
   ]
  },
  {
   "cell_type": "code",
   "execution_count": 75,
   "id": "fb50c2ab",
   "metadata": {},
   "outputs": [
    {
     "name": "stdout",
     "output_type": "stream",
     "text": [
      "Total number or reviews: 568454\n",
      "Total number of na (nulls): 27\n"
     ]
    }
   ],
   "source": [
    "#Checking for nuls\n",
    "print('Total number or reviews:', len(df))\n",
    "print(\"Total number of na (nulls):\", df.isna().sum().sum())\n"
   ]
  },
  {
   "cell_type": "code",
   "execution_count": 76,
   "id": "b0c16c41",
   "metadata": {},
   "outputs": [],
   "source": [
    "# Only 27 records with nulls out of 568,454. We can safely drop those:\n",
    "df=df.dropna()"
   ]
  },
  {
   "cell_type": "code",
   "execution_count": 77,
   "id": "c16ee8a7",
   "metadata": {},
   "outputs": [
    {
     "data": {
      "image/png": "[encoded data removed]",
      "text/plain": [
       "<Figure size 720x432 with 1 Axes>"
      ]
     },
     "metadata": {
      "needs_background": "light"
     },
     "output_type": "display_data"
    }
   ],
   "source": [
    "#Exploring targets:\n",
    "\n",
    "\n",
    "fig, ax = plt.subplots( figsize=(10,6))\n",
    "ax.bar(df[\"Score\"].value_counts().index, df[\"Score\"].value_counts(normalize=True) );\n",
    "\n"
   ]
  },
  {
   "cell_type": "code",
   "execution_count": 78,
   "id": "f512d212",
   "metadata": {},
   "outputs": [],
   "source": [
    "# Defining target as Negative (0) or Positive (1) review\n",
    "## We are going to ignore neutral 3 rating, it's only 7 percent of the data, and \n",
    "df=df[df[\"Score\"]!=3]\n",
    "df['Updated_Score']=np.where(df['Score'].isin([1,2]), 1, df['Score'] )\n",
    "df['Updated_Score']=np.where(df['Updated_Score'].isin([4,5]), 5, df['Updated_Score'] )\n"
   ]
  },
  {
   "cell_type": "code",
   "execution_count": 79,
   "id": "12a41e36",
   "metadata": {
    "scrolled": true
   },
   "outputs": [
    {
     "name": "stdout",
     "output_type": "stream",
     "text": [
      "5    0.844021\n",
      "1    0.155979\n",
      "Name: Updated_Score, dtype: float64\n"
     ]
    }
   ],
   "source": [
    "print(df[\"Updated_Score\"].value_counts(normalize=True))"
   ]
  },
  {
   "cell_type": "code",
   "execution_count": 80,
   "id": "797390e8",
   "metadata": {},
   "outputs": [],
   "source": [
    "n=40000\n",
    "\n",
    "df_sample=df.sample(n,random_state=12)\n",
    "\n",
    "df_sample['Summary']=df_sample['Summary'].apply(lambda x: x.translate(x.maketrans('', '', string.digits+string.punctuation)))\n",
    "df_sample['Text']=df_sample['Text'].apply(lambda x: x.translate(x.maketrans('', '', string.digits+string.punctuation)))\n",
    "\n",
    "\n",
    "df_sample['Text']= df_sample['Summary']+' '+df_sample['Text']"
   ]
  },
  {
   "cell_type": "code",
   "execution_count": 81,
   "id": "6e7f857a",
   "metadata": {},
   "outputs": [],
   "source": [
    "X=df_sample[['Text','Summary']].copy()\n",
    "y=df_sample['Updated_Score']\n",
    "\n",
    "X_train, X_test, y_train, y_test= train_test_split(X,y, test_size=0.20, random_state=1)"
   ]
  },
  {
   "cell_type": "markdown",
   "id": "591b955c",
   "metadata": {},
   "source": [
    "# Creating features"
   ]
  },
  {
   "cell_type": "code",
   "execution_count": 82,
   "id": "55a6a2eb",
   "metadata": {},
   "outputs": [],
   "source": [
    "class StringCounter (BaseEstimator, TransformerMixin):\n",
    "    def __init__(self, str_to_count):\n",
    "        self.str_to_count=str_to_count\n",
    "    \n",
    "    def fit(self, data,  y = 0):\n",
    "        return self\n",
    "    \n",
    "    def transform(self, data, y = 0):\n",
    "        quest_n = data.apply(lambda x: x.count(self.str_to_count) if x.count(self.str_to_count) < 50 else 0 )\n",
    "        return quest_n.values.reshape(-1,1)\n",
    "        \n",
    "class WordCounter (BaseEstimator, TransformerMixin):\n",
    "    def __init__(self):\n",
    "        pass\n",
    "    \n",
    "    def fit(self, data,  y = 0):\n",
    "        return self\n",
    "    \n",
    "    def transform(self, data, y = 0):\n",
    "        words_n = data.apply(lambda x: len(x.split()) )\n",
    "        return words_n.values.reshape(-1,1)\n",
    "    \n",
    "\n",
    "# class NewFeatures (BaseEstimator, TransformerMixin):\n",
    "    \n",
    "#     def __init__(self):\n",
    "        \n",
    "#         #define attributes to store if text preprocessing requires fitting from data\n",
    "#         pass\n",
    "    \n",
    "#     def fit(self, data, y = 0):\n",
    "#         return self\n",
    "    \n",
    "#     def transform(self, data, y = 0):\n",
    "                \n",
    "#         return data['Text']+d\n",
    "        \n",
    "    \n",
    "#     def process_doc(self, doc):\n",
    "\n",
    "  \n",
    "    \n",
    "exceptions=['aren', \"aren't\",  \"couldn't\", 'didn', \"didn't\", 'doesn', \"doesn't\", 'hadn', \"hadn't\", 'hasn', \"hasn't\", \n",
    "            'haven', \"haven't\", 'isn', \"isn't\",  \"mightn't\",  \"mustn't\",  \"needn't\", \"shouldn't\", 'wasn', \"wasn't\", \n",
    "            'weren', \"weren't\", 'won', \"won't\",  \"wouldn't\",\"not\",\"but\",\"against\", \"again\", \"should've\" , \"should\",\n",
    "            'very',\"don't\", 'because','few']\n",
    "\n",
    "\n",
    "def process_review(review):\n",
    "    stop_words = stopwords.words('english')\n",
    "    for exc in exceptions: stop_words.pop(stop_words.index(exc))\n",
    "        \n",
    "    review = re.sub('https?://\\S+|www\\.\\S+', '', review)\n",
    "    review = review.lower()\n",
    "    review_norm=word_tokenize(review)\n",
    "\n",
    "\n",
    "    review_norm = [x for x in review_norm if ((x.isalpha()) & (x not in stop_words) & (len(x) >2)) ]\n",
    "    review_norm  = [SnowballStemmer('english').stem(token) for token in review_norm]\n",
    "    return \" \".join(review_norm)\n"
   ]
  },
  {
   "cell_type": "code",
   "execution_count": 83,
   "id": "7ed6203b",
   "metadata": {},
   "outputs": [
    {
     "data": {
      "image/png": "[encoded data removed]",
      "text/plain": [
       "<Figure size 432x288 with 1 Axes>"
      ]
     },
     "metadata": {
      "needs_background": "light"
     },
     "output_type": "display_data"
    }
   ],
   "source": [
    "str_count=StringCounter(':)')\n",
    "plt.hist(str_count.fit_transform(df_sample['Text']), bins=10);\n",
    "\n"
   ]
  },
  {
   "cell_type": "code",
   "execution_count": 84,
   "id": "c4643f19",
   "metadata": {},
   "outputs": [
    {
     "data": {
      "text/plain": [
       "(array([0, 1, 2, 3, 4, 5, 9], dtype=int64),\n",
       " array([33820,  5228,   800,   115,    33,     3,     1], dtype=int64))"
      ]
     },
     "execution_count": 84,
     "metadata": {},
     "output_type": "execute_result"
    }
   ],
   "source": [
    "str_count=StringCounter('buy')\n",
    "a=sorted(str_count.fit_transform(df_sample['Text']),reverse=True )\n",
    "np.unique(a,return_counts=True)"
   ]
  },
  {
   "cell_type": "markdown",
   "id": "c3ce3288",
   "metadata": {},
   "source": [
    "## Modeling\n"
   ]
  },
  {
   "cell_type": "code",
   "execution_count": 85,
   "id": "e6800e2f",
   "metadata": {},
   "outputs": [],
   "source": [
    "text_vectorizer =CountVectorizer(preprocessor=process_review, min_df=0.0004)\n",
    "bi_vectorizer = CountVectorizer( ngram_range=(2, 3), min_df=0.0006)\n",
    "bi_summ_vectorizer = CountVectorizer( ngram_range=(2, 3), min_df=0.0003)\n",
    "word_counter=WordCounter()\n",
    "quest_counter=StringCounter('?')\n",
    "dot_counter=StringCounter('..')\n",
    "smile_counter=StringCounter(':)')\n",
    "\n",
    "text_fu = FeatureUnion([\n",
    "    ('word_counter', word_counter),\n",
    "    ('quest_counter', quest_counter),\n",
    "#    ('dot_counter', dot_counter),\n",
    "#    ('smile_counter', smile_counter),\n",
    "    ('text_vect', text_vectorizer), \n",
    "    ('bi_text_vect', bi_vectorizer)\n",
    "])\n",
    "\n",
    "summ_fu = FeatureUnion([\n",
    "     ('quest_counter', quest_counter),\n",
    "    ('dot_counter', dot_counter),\n",
    "    ('sum_vect', text_vectorizer), \n",
    "    ('bi_summ_vect', bi_summ_vectorizer)\n",
    "])\n",
    "\n",
    "\n",
    "preprocessor = ColumnTransformer(transformers=[\n",
    "    \n",
    "    ('text_fu', text_fu, 'Text'),\n",
    "    ('summ_fu', summ_fu, 'Summary'),\n",
    "], remainder='passthrough')\n"
   ]
  },
  {
   "cell_type": "code",
   "execution_count": 86,
   "id": "45ce4a5f",
   "metadata": {},
   "outputs": [
    {
     "name": "stdout",
     "output_type": "stream",
     "text": [
      "0:01:32.184810\n"
     ]
    }
   ],
   "source": [
    "started = datetime.now()\n",
    "prep_train_X=preprocessor.fit_transform(X_train)\n",
    "prep_test_X=preprocessor.transform(X_test)\n",
    "print(datetime.now()-started)"
   ]
  },
  {
   "cell_type": "code",
   "execution_count": 87,
   "id": "bacaade8",
   "metadata": {},
   "outputs": [
    {
     "data": {
      "text/plain": [
       "(8000, 28293)"
      ]
     },
     "execution_count": 87,
     "metadata": {},
     "output_type": "execute_result"
    }
   ],
   "source": [
    "prep_test_X.shape"
   ]
  },
  {
   "cell_type": "code",
   "execution_count": 133,
   "id": "e8668420",
   "metadata": {},
   "outputs": [],
   "source": [
    "compl=ComplementNB(alpha=1)\n",
    "compl.fit(prep_train_X, y_train)\n",
    "y_pred=compl.predict(prep_test_X)"
   ]
  },
  {
   "cell_type": "code",
   "execution_count": 137,
   "id": "9bffe1ed",
   "metadata": {},
   "outputs": [
    {
     "data": {
      "text/html": [
       "<style>#sk-72b6f62d-60cb-4518-a58e-2f6512166f0c {color: black;background-color: white;}#sk-72b6f62d-60cb-4518-a58e-2f6512166f0c pre{padding: 0;}#sk-72b6f62d-60cb-4518-a58e-2f6512166f0c div.sk-toggleable {background-color: white;}#sk-72b6f62d-60cb-4518-a58e-2f6512166f0c label.sk-toggleable__label {cursor: pointer;display: block;width: 100%;margin-bottom: 0;padding: 0.3em;box-sizing: border-box;text-align: center;}#sk-72b6f62d-60cb-4518-a58e-2f6512166f0c label.sk-toggleable__label-arrow:before {content: \"▸\";float: left;margin-right: 0.25em;color: #696969;}#sk-72b6f62d-60cb-4518-a58e-2f6512166f0c label.sk-toggleable__label-arrow:hover:before {color: black;}#sk-72b6f62d-60cb-4518-a58e-2f6512166f0c div.sk-estimator:hover label.sk-toggleable__label-arrow:before {color: black;}#sk-72b6f62d-60cb-4518-a58e-2f6512166f0c div.sk-toggleable__content {max-height: 0;max-width: 0;overflow: hidden;text-align: left;background-color: #f0f8ff;}#sk-72b6f62d-60cb-4518-a58e-2f6512166f0c div.sk-toggleable__content pre {margin: 0.2em;color: black;border-radius: 0.25em;background-color: #f0f8ff;}#sk-72b6f62d-60cb-4518-a58e-2f6512166f0c input.sk-toggleable__control:checked~div.sk-toggleable__content {max-height: 200px;max-width: 100%;overflow: auto;}#sk-72b6f62d-60cb-4518-a58e-2f6512166f0c input.sk-toggleable__control:checked~label.sk-toggleable__label-arrow:before {content: \"▾\";}#sk-72b6f62d-60cb-4518-a58e-2f6512166f0c div.sk-estimator input.sk-toggleable__control:checked~label.sk-toggleable__label {background-color: #d4ebff;}#sk-72b6f62d-60cb-4518-a58e-2f6512166f0c div.sk-label input.sk-toggleable__control:checked~label.sk-toggleable__label {background-color: #d4ebff;}#sk-72b6f62d-60cb-4518-a58e-2f6512166f0c input.sk-hidden--visually {border: 0;clip: rect(1px 1px 1px 1px);clip: rect(1px, 1px, 1px, 1px);height: 1px;margin: -1px;overflow: hidden;padding: 0;position: absolute;width: 1px;}#sk-72b6f62d-60cb-4518-a58e-2f6512166f0c div.sk-estimator {font-family: monospace;background-color: #f0f8ff;border: 1px dotted black;border-radius: 0.25em;box-sizing: border-box;margin-bottom: 0.5em;}#sk-72b6f62d-60cb-4518-a58e-2f6512166f0c div.sk-estimator:hover {background-color: #d4ebff;}#sk-72b6f62d-60cb-4518-a58e-2f6512166f0c div.sk-parallel-item::after {content: \"\";width: 100%;border-bottom: 1px solid gray;flex-grow: 1;}#sk-72b6f62d-60cb-4518-a58e-2f6512166f0c div.sk-label:hover label.sk-toggleable__label {background-color: #d4ebff;}#sk-72b6f62d-60cb-4518-a58e-2f6512166f0c div.sk-serial::before {content: \"\";position: absolute;border-left: 1px solid gray;box-sizing: border-box;top: 2em;bottom: 0;left: 50%;}#sk-72b6f62d-60cb-4518-a58e-2f6512166f0c div.sk-serial {display: flex;flex-direction: column;align-items: center;background-color: white;padding-right: 0.2em;padding-left: 0.2em;}#sk-72b6f62d-60cb-4518-a58e-2f6512166f0c div.sk-item {z-index: 1;}#sk-72b6f62d-60cb-4518-a58e-2f6512166f0c div.sk-parallel {display: flex;align-items: stretch;justify-content: center;background-color: white;}#sk-72b6f62d-60cb-4518-a58e-2f6512166f0c div.sk-parallel::before {content: \"\";position: absolute;border-left: 1px solid gray;box-sizing: border-box;top: 2em;bottom: 0;left: 50%;}#sk-72b6f62d-60cb-4518-a58e-2f6512166f0c div.sk-parallel-item {display: flex;flex-direction: column;position: relative;background-color: white;}#sk-72b6f62d-60cb-4518-a58e-2f6512166f0c div.sk-parallel-item:first-child::after {align-self: flex-end;width: 50%;}#sk-72b6f62d-60cb-4518-a58e-2f6512166f0c div.sk-parallel-item:last-child::after {align-self: flex-start;width: 50%;}#sk-72b6f62d-60cb-4518-a58e-2f6512166f0c div.sk-parallel-item:only-child::after {width: 0;}#sk-72b6f62d-60cb-4518-a58e-2f6512166f0c div.sk-dashed-wrapped {border: 1px dashed gray;margin: 0 0.4em 0.5em 0.4em;box-sizing: border-box;padding-bottom: 0.4em;background-color: white;position: relative;}#sk-72b6f62d-60cb-4518-a58e-2f6512166f0c div.sk-label label {font-family: monospace;font-weight: bold;background-color: white;display: inline-block;line-height: 1.2em;}#sk-72b6f62d-60cb-4518-a58e-2f6512166f0c div.sk-label-container {position: relative;z-index: 2;text-align: center;}#sk-72b6f62d-60cb-4518-a58e-2f6512166f0c div.sk-container {/* jupyter's `normalize.less` sets `[hidden] { display: none; }` but bootstrap.min.css set `[hidden] { display: none !important; }` so we also need the `!important` here to be able to override the default hidden behavior on the sphinx rendered scikit-learn.org. See: https://github.com/scikit-learn/scikit-learn/issues/21755 */display: inline-block !important;position: relative;}#sk-72b6f62d-60cb-4518-a58e-2f6512166f0c div.sk-text-repr-fallback {display: none;}</style><div id=\"sk-72b6f62d-60cb-4518-a58e-2f6512166f0c\" class=\"sk-top-container\"><div class=\"sk-text-repr-fallback\"><pre>VotingClassifier(estimators=[(&#x27;compl&#x27;, MultinomialNB()),\n",
       "                             (&#x27;mult&#x27;, ComplementNB())],\n",
       "                 n_jobs=-1, verbose=True, voting=&#x27;soft&#x27;,\n",
       "                 weights=[0.855, 0.145])</pre><b>Please rerun this cell to show the HTML repr or trust the notebook.</b></div><div class=\"sk-container\" hidden><div class=\"sk-item sk-dashed-wrapped\"><div class=\"sk-label-container\"><div class=\"sk-label sk-toggleable\"><input class=\"sk-toggleable__control sk-hidden--visually\" id=\"2ffa5e7c-736b-421f-80cd-8fe65ef97449\" type=\"checkbox\" ><label for=\"2ffa5e7c-736b-421f-80cd-8fe65ef97449\" class=\"sk-toggleable__label sk-toggleable__label-arrow\">VotingClassifier</label><div class=\"sk-toggleable__content\"><pre>VotingClassifier(estimators=[(&#x27;compl&#x27;, MultinomialNB()),\n",
       "                             (&#x27;mult&#x27;, ComplementNB())],\n",
       "                 n_jobs=-1, verbose=True, voting=&#x27;soft&#x27;,\n",
       "                 weights=[0.855, 0.145])</pre></div></div></div><div class=\"sk-parallel\"><div class=\"sk-parallel-item\"><div class=\"sk-item\"><div class=\"sk-label-container\"><div class=\"sk-label sk-toggleable\"><label>compl</label></div></div><div class=\"sk-serial\"><div class=\"sk-item\"><div class=\"sk-estimator sk-toggleable\"><input class=\"sk-toggleable__control sk-hidden--visually\" id=\"e901a3a2-f898-49ef-907f-077e3a763b54\" type=\"checkbox\" ><label for=\"e901a3a2-f898-49ef-907f-077e3a763b54\" class=\"sk-toggleable__label sk-toggleable__label-arrow\">MultinomialNB</label><div class=\"sk-toggleable__content\"><pre>MultinomialNB()</pre></div></div></div></div></div></div><div class=\"sk-parallel-item\"><div class=\"sk-item\"><div class=\"sk-label-container\"><div class=\"sk-label sk-toggleable\"><label>mult</label></div></div><div class=\"sk-serial\"><div class=\"sk-item\"><div class=\"sk-estimator sk-toggleable\"><input class=\"sk-toggleable__control sk-hidden--visually\" id=\"38c322eb-bb26-4ed8-8b8f-2c98f745f76a\" type=\"checkbox\" ><label for=\"38c322eb-bb26-4ed8-8b8f-2c98f745f76a\" class=\"sk-toggleable__label sk-toggleable__label-arrow\">ComplementNB</label><div class=\"sk-toggleable__content\"><pre>ComplementNB()</pre></div></div></div></div></div></div></div></div></div></div>"
      ],
      "text/plain": [
       "VotingClassifier(estimators=[('compl', MultinomialNB()),\n",
       "                             ('mult', ComplementNB())],\n",
       "                 n_jobs=-1, verbose=True, voting='soft',\n",
       "                 weights=[0.855, 0.145])"
      ]
     },
     "execution_count": 137,
     "metadata": {},
     "output_type": "execute_result"
    }
   ],
   "source": [
    "from sklearn.discriminant_analysis import QuadraticDiscriminantAnalysis\n",
    "from sklearn.ensemble import VotingClassifier, BaggingClassifier\n",
    "\n",
    "compl = ComplementNB()\n",
    "mult = MultinomialNB()\n",
    "\n",
    "#bag=BaggingClassifier(ComplementNB(), n_estimators=300)\n",
    "\n",
    "vote= VotingClassifier(estimators = [('compl', mult), ('mult', compl )], voting='soft', \n",
    "                       n_jobs=-1, weights=[0.855, 0.145], verbose=True)\n",
    "\n",
    "vote.fit(prep_train_X, y_train)"
   ]
  },
  {
   "cell_type": "code",
   "execution_count": 139,
   "id": "b9453952",
   "metadata": {},
   "outputs": [],
   "source": [
    "y_pred=vote.predict(prep_test_X)"
   ]
  },
  {
   "cell_type": "code",
   "execution_count": 141,
   "id": "cd0f1e17",
   "metadata": {},
   "outputs": [
    {
     "name": "stdout",
     "output_type": "stream",
     "text": [
      "              precision    recall  f1-score   support\n",
      "\n",
      "           1       0.73      0.91      0.81      1214\n",
      "           5       0.98      0.94      0.96      6786\n",
      "\n",
      "    accuracy                           0.93      8000\n",
      "   macro avg       0.86      0.92      0.88      8000\n",
      "weighted avg       0.94      0.93      0.94      8000\n",
      "\n"
     ]
    },
    {
     "data": {
      "text/plain": [
       "0.934875"
      ]
     },
     "execution_count": 141,
     "metadata": {},
     "output_type": "execute_result"
    }
   ],
   "source": [
    "print(classification_report(y_test, y_pred))\n",
    "accuracy_score(y_test,y_pred)"
   ]
  },
  {
   "cell_type": "code",
   "execution_count": null,
   "id": "bb301a23",
   "metadata": {},
   "outputs": [],
   "source": []
  }
 ],
 "metadata": {
  "kernelspec": {
   "display_name": "Python 3 (ipykernel)",
   "language": "python",
   "name": "python3"
  },
  "language_info": {
   "codemirror_mode": {
    "name": "ipython",
    "version": 3
   },
   "file_extension": ".py",
   "mimetype": "text/x-python",
   "name": "python",
   "nbconvert_exporter": "python",
   "pygments_lexer": "ipython3",
   "version": "3.9.7"
  }
 },
 "nbformat": 4,
 "nbformat_minor": 5
}
