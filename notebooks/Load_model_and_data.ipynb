{
 "cells": [
  {
   "cell_type": "markdown",
   "id": "25004a13",
   "metadata": {},
   "source": [
    "## Loading the models and pre-processed data"
   ]
  },
  {
   "cell_type": "code",
   "execution_count": 7,
   "id": "b9cbe281",
   "metadata": {},
   "outputs": [],
   "source": [
    "%run ../src/import_libraries.py\n",
    "%run ../src/preproc_pipe.py\n"
   ]
  },
  {
   "cell_type": "code",
   "execution_count": 8,
   "id": "5f0f3e3a",
   "metadata": {},
   "outputs": [],
   "source": [
    "from scipy import sparse\n",
    "from joblib import dump, load\n",
    "\n",
    "vote = load('../models/Best_Model.joblib') \n",
    "prep_pipe = load('../models/Best_Preprocessor.joblib') \n",
    "\n",
    "prep_train_X = sparse.load_npz(\"../data/preprocessed/prep_train_X.npz\")\n",
    "prep_test_X = sparse.load_npz(\"../data/preprocessed/prep_test_X.npz\")\n",
    "\n",
    "df=pd.read_pickle(\"../data/preprocessed/df.pkl\")  \n"
   ]
  },
  {
   "cell_type": "code",
   "execution_count": 13,
   "id": "3ecef34e",
   "metadata": {},
   "outputs": [],
   "source": [
    "X=df[['Text','Summary']].copy()\n",
    "y=df['Updated_Score']\n",
    "\n",
    "X_train, X_test, y_train, y_test= train_test_split(X,y, test_size=0.10, random_state=1)"
   ]
  },
  {
   "cell_type": "markdown",
   "id": "d98f6c13",
   "metadata": {},
   "source": [
    "## Checking the model's prediction"
   ]
  },
  {
   "cell_type": "code",
   "execution_count": 16,
   "id": "4c8ec1fa",
   "metadata": {},
   "outputs": [],
   "source": [
    "y_pred=vote.predict(prep_test_X)"
   ]
  },
  {
   "cell_type": "code",
   "execution_count": 17,
   "id": "5e7761eb",
   "metadata": {},
   "outputs": [
    {
     "name": "stdout",
     "output_type": "stream",
     "text": [
      "              precision    recall  f1-score   support\n",
      "\n",
      "           1       0.81      0.91      0.86      8213\n",
      "           5       0.98      0.96      0.97     44366\n",
      "\n",
      "    accuracy                           0.95     52579\n",
      "   macro avg       0.90      0.94      0.92     52579\n",
      "weighted avg       0.96      0.95      0.95     52579\n",
      "\n"
     ]
    },
    {
     "data": {
      "text/plain": [
       "0.9532132600467867"
      ]
     },
     "execution_count": 17,
     "metadata": {},
     "output_type": "execute_result"
    }
   ],
   "source": [
    "print(classification_report(y_test, y_pred))\n",
    "accuracy_score(y_test,y_pred)"
   ]
  },
  {
   "cell_type": "code",
   "execution_count": 20,
   "id": "d4ca1b00",
   "metadata": {},
   "outputs": [
    {
     "data": {
      "image/png": "[encoded data removed]",
      "text/plain": [
       "<Figure size 432x432 with 2 Axes>"
      ]
     },
     "metadata": {
      "needs_background": "light"
     },
     "output_type": "display_data"
    }
   ],
   "source": [
    "%matplotlib inline\n",
    "fig, ax = plt.subplots ( figsize=(6,6))\n",
    "ConfusionMatrixDisplay.from_predictions(y_test, y_pred, normalize='true', cmap='mako', ax=ax,\n",
    "                                       display_labels=['Neg.','Pos.']);\n",
    "plt.yticks(rotation=90, size=12)\n",
    "fig.set_tight_layout({'pad':0})"
   ]
  }
 ],
 "metadata": {
  "kernelspec": {
   "display_name": "Python 3 (ipykernel)",
   "language": "python",
   "name": "python3"
  },
  "language_info": {
   "codemirror_mode": {
    "name": "ipython",
    "version": 3
   },
   "file_extension": ".py",
   "mimetype": "text/x-python",
   "name": "python",
   "nbconvert_exporter": "python",
   "pygments_lexer": "ipython3",
   "version": "3.9.7"
  }
 },
 "nbformat": 4,
 "nbformat_minor": 5
}
