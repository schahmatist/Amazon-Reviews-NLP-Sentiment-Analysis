{
 "cells": [
  {
   "cell_type": "markdown",
   "id": "b70ddeca",
   "metadata": {},
   "source": [
    "# Sentiment Analysis for Product Reviews"
   ]
  },
  {
   "cell_type": "markdown",
   "id": "3da34f29",
   "metadata": {},
   "source": [
    "* Using ML algorithms to capture customer's \"sentiment\" from the text of his/her review.\n",
    "\n",
    "* To be able to identify both: satisfied and unsatisfied customers\n",
    "\n",
    "* With relative simplicity of implementation to get maximum accuracy and precision"
   ]
  },
  {
   "cell_type": "markdown",
   "id": "ea827103",
   "metadata": {},
   "source": [
    "### WHAT'S IN THE REPOSITORY?"
   ]
  },
  {
   "cell_type": "markdown",
   "id": "77e3fd84",
   "metadata": {},
   "source": [
    "#### notebooks "
   ]
  },
  {
   "cell_type": "markdown",
   "id": "758d473d",
   "metadata": {},
   "source": [
    "\n",
    "* [EDA.ipynb](https://github.com/schahmatist/Amazon_Reviews_Sentiment_Analysys/blob/main/notebooks/EDA.ipynb) - Exploring the Data before cleating a model  \n",
    "<br>\n",
    "\n",
    "* [Preprocessing_Pipe.ipynb](https://github.com/schahmatist/Amazon_Reviews_Sentiment_Analysys/blob/main/notebooks/Preprocessing_Pipe.ipynb) - Pre-processing data as a part of sklearn pipeline  \n",
    "\n",
    "\n",
    "* [Modeling.ipynb](https://github.com/schahmatist/Amazon_Reviews_Sentiment_Analysys/blob/main/notebooks/Modeling.ipynb) - Modeling - Iterative approach, progress from the first to the best model  \n",
    "<br>\n",
    "\n",
    "* [Load_model_and_data.ipynb](https://github.com/schahmatist/Amazon_Reviews_Sentiment_Analysys/blob/main/notebooks/Load_model_and_data.ipynb) - Optionally, you can load pickled models and data to save time on training\n",
    "\n",
    "\n"
   ]
  },
  {
   "cell_type": "markdown",
   "id": "8f5b8140",
   "metadata": {},
   "source": [
    "#### src\n",
    "\n",
    "\n",
    "* [import_libraries.py](https://github.com/schahmatist/Amazon_Reviews_Sentiment_Analysys/blob/main/src/import_functions.py) - importing requred sklearn, nltk, pandas, numpy, and other libraries  \n",
    "<br>\n",
    "<br>\n",
    "* [initial_preprocessing.py](https://github.com/schahmatist/Amazon_Reviews_Sentiment_Analysys/blob/main/src/import_functions.py) - initial loading and very basic pre-proccessing of the data\n",
    "<br>\n",
    "<br>\n",
    "* [import_functions.py](https://github.com/schahmatist/Amazon_Reviews_Sentiment_Analysys/blob/main/src/import_functions.py) - importing custom functions \n",
    "<br>\n",
    "<br>\n",
    "* [preproc_pipe.py](https://github.com/schahmatist/Amazon_Reviews_Sentiment_Analysys/blob/main/src/import_functions.py) - Building a preproc pipeline with custom classes and functions as described in [Preprocessing_Pipe.ipynb](https://github.com/schahmatist/Amazon_Reviews_Sentiment_Analysys/blob/main/notebooks/Preprocessing_Pipe.ipynb)\n",
    "<br>\n",
    "<br>\n"
   ]
  },
  {
   "cell_type": "markdown",
   "id": "434ee3d5",
   "metadata": {},
   "source": [
    "#### data"
   ]
  },
  {
   "cell_type": "markdown",
   "id": "35cf562a",
   "metadata": {},
   "source": [
    "* **raw** - contains Reviews.csv.gz\n",
    "* **preprocessed** - contains df.pkl.gz, prep_test_X.npz, prep_train_X.npz. These optionally can be loaded in [Load_model_and_data.ipynb](https://github.com/schahmatist/Amazon_Reviews_Sentiment_Analysys/blob/main/notebooks/Load_model_and_data.ipynb)\n",
    "* **supplementary** - contains webster.json to check the spelling of words\n",
    "***"
   ]
  },
  {
   "cell_type": "markdown",
   "id": "64d481c8",
   "metadata": {},
   "source": [
    "***\n",
    "## HIGH LEVEL PROJECT DETAILS:"
   ]
  },
  {
   "cell_type": "markdown",
   "id": "a387c9a1",
   "metadata": {},
   "source": [
    "### DATA"
   ]
  },
  {
   "cell_type": "markdown",
   "id": "a0f136eb",
   "metadata": {},
   "source": [
    "<img src=\"images/amazon.jpg\" alt=\"drawing\" align=\"left\"  width=\"200\"/>  "
   ]
  },
  {
   "cell_type": "markdown",
   "id": "e314f012",
   "metadata": {},
   "source": [
    "* Food Amazon Reviews from Oct 1999 - Oct 2012\n",
    "* 568,454 reviews\n",
    "* 256,059 users\n",
    "* 74,258 products\n",
    "* Source: https://www.kaggle.com/datasets/snap/amazon-fine-food-reviews\n",
    "\n"
   ]
  },
  {
   "cell_type": "markdown",
   "id": "bd6992e1",
   "metadata": {},
   "source": [
    "### DATA PRE-PROCESSING "
   ]
  },
  {
   "cell_type": "markdown",
   "id": "7c7fdb8c",
   "metadata": {},
   "source": [
    "* Used 'Text' and 'Summary' for prediction\n",
    "* removing non-alpha characters\n",
    "* converted to lowercase\n",
    "* stemming words\n",
    "* removed common words\n",
    "* converted to base/dictionary form for EDA and visualizations"
   ]
  },
  {
   "cell_type": "markdown",
   "id": "f34d607b",
   "metadata": {},
   "source": [
    "***\n",
    "### NEW FEATURES"
   ]
  },
  {
   "cell_type": "markdown",
   "id": "b10469b2",
   "metadata": {},
   "source": [
    "Lots of features were considered for training the model ( including  \n",
    "use of smiles, dots, and varius punctuation in a review )  \n",
    "\n",
    "#### The following features were chosen:"
   ]
  },
  {
   "cell_type": "markdown",
   "id": "7235ad65",
   "metadata": {},
   "source": [
    "* Length of the review\n",
    "* Capitalization\n",
    "* Use of punctuation (? and !)\n",
    "* ngrams (word combinations)\n",
    "* Words and ngrams frequencies\n",
    "* Checking for misspelled words\n",
    "* \"Bag of words\" method"
   ]
  },
  {
   "cell_type": "markdown",
   "id": "f7201120",
   "metadata": {},
   "source": [
    "### ALGORITHMS"
   ]
  },
  {
   "cell_type": "markdown",
   "id": "741bfbba",
   "metadata": {},
   "source": [
    "Multiple algorithms were considered including MultinomialNB, XGB, Bernoulli, RandomForest  \n",
    "\n",
    "**The following were chosen for the best model:**"
   ]
  },
  {
   "cell_type": "markdown",
   "id": "8d3bf5c8",
   "metadata": {},
   "source": [
    "Voting Ensemble of:\n",
    "\n",
    "* ComplementNB \n",
    "* XGB boost\n"
   ]
  },
  {
   "cell_type": "markdown",
   "id": "ff151d90",
   "metadata": {},
   "source": [
    "### EVALUATION"
   ]
  },
  {
   "cell_type": "markdown",
   "id": "768dc7c6",
   "metadata": {},
   "source": [
    "* Accuracy of 95.3 was acheived\n",
    "***\n",
    "**More detailed evaluation metrics:**"
   ]
  },
  {
   "cell_type": "markdown",
   "id": "9e60e547",
   "metadata": {},
   "source": [
    "                       precision  recall      f1-score   \n",
    "             Neg.      0.81       0.91        0.86        \n",
    "             Pos.      0.98       0.96        0.97      \n",
    "\n",
    "             Accuracy :                       0.953 "
   ]
  },
  {
   "cell_type": "markdown",
   "id": "e0387522",
   "metadata": {},
   "source": [
    "<img src=\"images/conf_matrix.jpg\" alt=\"drawing\" align=\"left\"  width=\"450\"/>  "
   ]
  }
 ],
 "metadata": {
  "kernelspec": {
   "display_name": "Python 3 (ipykernel)",
   "language": "python",
   "name": "python3"
  },
  "language_info": {
   "codemirror_mode": {
    "name": "ipython",
    "version": 3
   },
   "file_extension": ".py",
   "mimetype": "text/x-python",
   "name": "python",
   "nbconvert_exporter": "python",
   "pygments_lexer": "ipython3",
   "version": "3.9.7"
  }
 },
 "nbformat": 4,
 "nbformat_minor": 5
}
